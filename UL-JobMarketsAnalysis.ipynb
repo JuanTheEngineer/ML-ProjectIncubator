{
 "cells": [
  {
   "cell_type": "markdown",
   "id": "5bba6464-a65e-44f8-9b7e-f8c4d866105f",
   "metadata": {},
   "source": [
    "Relate the distribution of pay in certain job markets to trends of eccentricity/simplicity, stress levels/satisfaction levels, max/mins, company size distribution, Investigate ICA as a prereq"
   ]
  }
 ],
 "metadata": {
  "kernelspec": {
   "display_name": "Python 3 (ipykernel)",
   "language": "python",
   "name": "python3"
  },
  "language_info": {
   "codemirror_mode": {
    "name": "ipython",
    "version": 3
   },
   "file_extension": ".py",
   "mimetype": "text/x-python",
   "name": "python",
   "nbconvert_exporter": "python",
   "pygments_lexer": "ipython3",
   "version": "3.9.13"
  }
 },
 "nbformat": 4,
 "nbformat_minor": 5
}
